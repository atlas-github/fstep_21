{
  "nbformat": 4,
  "nbformat_minor": 0,
  "metadata": {
    "colab": {
      "name": "fstep_21_regression.ipynb",
      "provenance": [],
      "collapsed_sections": [],
      "authorship_tag": "ABX9TyORxA8b/zd1yAJAnR/hOM/A",
      "include_colab_link": true
    },
    "kernelspec": {
      "name": "python3",
      "display_name": "Python 3"
    },
    "language_info": {
      "name": "python"
    }
  },
  "cells": [
    {
      "cell_type": "markdown",
      "metadata": {
        "id": "view-in-github",
        "colab_type": "text"
      },
      "source": [
        "<a href=\"https://colab.research.google.com/github/atlas-github/fstep_21/blob/main/fstep_21_regression.ipynb\" target=\"_parent\"><img src=\"https://colab.research.google.com/assets/colab-badge.svg\" alt=\"Open In Colab\"/></a>"
      ]
    },
    {
      "cell_type": "markdown",
      "metadata": {
        "id": "WHoldtIGZRa4"
      },
      "source": [
        "#Linear regression, correlation"
      ]
    },
    {
      "cell_type": "markdown",
      "metadata": {
        "id": "dsnokV3UZVNu"
      },
      "source": [
        "The term regression is used when you try to **find the relationship between variables**.\n",
        "\n",
        "In Machine Learning, and in statistical modeling, that relationship is **used to predict the outcome of future events**.\n",
        "\n",
        "Linear regression uses the relationship between the data-points to draw a straight line through all them.\n",
        "\n",
        "This line can be used to predict future values.\n",
        "\n",
        "Source: [Machine Learning - Linear Regression](https://www.w3schools.com/python/python_ml_linear_regression.asp)"
      ]
    },
    {
      "cell_type": "code",
      "metadata": {
        "id": "XUGNiq3sYy0c"
      },
      "source": [
        "#Start by drawing a scatter plot"
      ],
      "execution_count": 1,
      "outputs": []
    },
    {
      "cell_type": "code",
      "metadata": {
        "id": "nQDcxMOKZXxW"
      },
      "source": [
        ""
      ],
      "execution_count": 1,
      "outputs": []
    },
    {
      "cell_type": "code",
      "metadata": {
        "id": "VjBcprQgZgKB"
      },
      "source": [
        ""
      ],
      "execution_count": 1,
      "outputs": []
    },
    {
      "cell_type": "code",
      "metadata": {
        "id": "hl4bP717ZjZo"
      },
      "source": [
        ""
      ],
      "execution_count": 1,
      "outputs": []
    },
    {
      "cell_type": "code",
      "metadata": {
        "id": "gYf1swPoZkHJ"
      },
      "source": [
        ""
      ],
      "execution_count": 1,
      "outputs": []
    },
    {
      "cell_type": "markdown",
      "metadata": {
        "id": "enlOaV0-ZnLv"
      },
      "source": [
        "It is common for different developers to get the same results using an alternate method. \n",
        "\n",
        "scikit-learn's [Linear Regression](https://scikit-learn.org/stable/modules/generated/sklearn.linear_model.LinearRegression.html#sklearn.linear_model.LinearRegression) also has functions to calculate `slope`, `intercept`, and `r`."
      ]
    },
    {
      "cell_type": "code",
      "metadata": {
        "id": "VgydGuQyZlFR"
      },
      "source": [
        ""
      ],
      "execution_count": 1,
      "outputs": []
    },
    {
      "cell_type": "markdown",
      "metadata": {
        "id": "jZDsux-hZuDs"
      },
      "source": [
        "##Exercise (Linear regression and correlation)"
      ]
    },
    {
      "cell_type": "markdown",
      "metadata": {
        "id": "r8o2YsQ0Z31I"
      },
      "source": [
        "Refer to scikit-learn's [Linear Regression](https://scikit-learn.org/stable/modules/generated/sklearn.linear_model.LinearRegression.html#sklearn.linear_model.LinearRegression), see if you can identify the functions needed to get the `slope`, `intercept`, and `r`. "
      ]
    },
    {
      "cell_type": "code",
      "metadata": {
        "id": "iNpctaEbZqr5"
      },
      "source": [
        ""
      ],
      "execution_count": 1,
      "outputs": []
    },
    {
      "cell_type": "code",
      "metadata": {
        "id": "TDfQgXQzZ5po"
      },
      "source": [
        ""
      ],
      "execution_count": 1,
      "outputs": []
    },
    {
      "cell_type": "code",
      "metadata": {
        "id": "6E9h0nKiZ6sg"
      },
      "source": [
        ""
      ],
      "execution_count": 1,
      "outputs": []
    },
    {
      "cell_type": "code",
      "metadata": {
        "id": "TJ4EThTbZ-Ci"
      },
      "source": [
        ""
      ],
      "execution_count": 1,
      "outputs": []
    }
  ]
}